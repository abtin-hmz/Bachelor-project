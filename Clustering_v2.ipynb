{
  "nbformat": 4,
  "nbformat_minor": 0,
  "metadata": {
    "colab": {
      "provenance": []
    },
    "kernelspec": {
      "name": "python3",
      "display_name": "Python 3"
    },
    "language_info": {
      "name": "python"
    }
  },
  "cells": [
    {
      "cell_type": "code",
      "execution_count": 6,
      "metadata": {
        "colab": {
          "base_uri": "https://localhost:8080/"
        },
        "id": "ndxK3L39rw6u",
        "outputId": "788c06f4-1281-4cdd-a25a-f888829bb20a"
      },
      "outputs": [
        {
          "output_type": "stream",
          "name": "stdout",
          "text": [
            "Drive already mounted at /content/drive; to attempt to forcibly remount, call drive.mount(\"/content/drive\", force_remount=True).\n"
          ]
        }
      ],
      "source": [
        "from google.colab import drive\n",
        "drive.mount('/content/drive')"
      ]
    },
    {
      "cell_type": "code",
      "source": [
        "import pandas as pd\n",
        "import pandas as pd\n",
        "df = pd.read_csv(\"/content/drive/MyDrive/BA Project/productSampled.csv\",encoding=\"utf-8\")\n",
        "df.info()"
      ],
      "metadata": {
        "colab": {
          "base_uri": "https://localhost:8080/"
        },
        "id": "yJ-_TFLSr8gm",
        "outputId": "45ae7662-e6a1-4746-9204-a0ba932fd9df"
      },
      "execution_count": 7,
      "outputs": [
        {
          "output_type": "stream",
          "name": "stdout",
          "text": [
            "<class 'pandas.core.frame.DataFrame'>\n",
            "RangeIndex: 36123 entries, 0 to 36122\n",
            "Data columns (total 9 columns):\n",
            " #   Column         Non-Null Count  Dtype  \n",
            "---  ------         --------------  -----  \n",
            " 0   id             36123 non-null  int64  \n",
            " 1   category_name  36123 non-null  object \n",
            " 2   titles         36123 non-null  object \n",
            " 3   min_price      31172 non-null  float64\n",
            " 4   max_price      31172 non-null  float64\n",
            " 5   avg_price      31172 non-null  float64\n",
            " 6   min_num_shops  36123 non-null  int64  \n",
            " 7   max_num_shops  36123 non-null  int64  \n",
            " 8   avg_num_shops  36123 non-null  float64\n",
            "dtypes: float64(4), int64(3), object(2)\n",
            "memory usage: 2.5+ MB\n"
          ]
        }
      ]
    },
    {
      "cell_type": "code",
      "source": [
        "# Number of unique category_name values\n",
        "unique_categories = df['category_name'].nunique()\n",
        "print(f\"Number of unique category names: {unique_categories}\")"
      ],
      "metadata": {
        "colab": {
          "base_uri": "https://localhost:8080/"
        },
        "id": "WjvJ60KG9q6I",
        "outputId": "57119e25-2556-41ea-e9e4-e2cecd0f0502"
      },
      "execution_count": 8,
      "outputs": [
        {
          "output_type": "stream",
          "name": "stdout",
          "text": [
            "Number of unique category names: 2667\n"
          ]
        }
      ]
    },
    {
      "cell_type": "code",
      "source": [
        "import pandas as pd\n",
        "from sklearn.feature_extraction.text import TfidfVectorizer\n",
        "from sklearn.decomposition import TruncatedSVD\n",
        "from sklearn.cluster import KMeans\n",
        "# Step 1: Extract TF-IDF features\n",
        "vectorizer = TfidfVectorizer()\n",
        "category_vectors = vectorizer.fit_transform(df['category_name'])"
      ],
      "metadata": {
        "id": "wjGzXJGQsgx9"
      },
      "execution_count": 9,
      "outputs": []
    },
    {
      "cell_type": "code",
      "source": [
        "df.info()"
      ],
      "metadata": {
        "colab": {
          "base_uri": "https://localhost:8080/"
        },
        "id": "i4P0exb0vgQL",
        "outputId": "5e82d2da-83dd-4228-f389-4abf3f80e9e9"
      },
      "execution_count": 10,
      "outputs": [
        {
          "output_type": "stream",
          "name": "stdout",
          "text": [
            "<class 'pandas.core.frame.DataFrame'>\n",
            "RangeIndex: 36123 entries, 0 to 36122\n",
            "Data columns (total 9 columns):\n",
            " #   Column         Non-Null Count  Dtype  \n",
            "---  ------         --------------  -----  \n",
            " 0   id             36123 non-null  int64  \n",
            " 1   category_name  36123 non-null  object \n",
            " 2   titles         36123 non-null  object \n",
            " 3   min_price      31172 non-null  float64\n",
            " 4   max_price      31172 non-null  float64\n",
            " 5   avg_price      31172 non-null  float64\n",
            " 6   min_num_shops  36123 non-null  int64  \n",
            " 7   max_num_shops  36123 non-null  int64  \n",
            " 8   avg_num_shops  36123 non-null  float64\n",
            "dtypes: float64(4), int64(3), object(2)\n",
            "memory usage: 2.5+ MB\n"
          ]
        }
      ]
    },
    {
      "cell_type": "code",
      "source": [
        "# Number of unique category_name values\n",
        "unique_categories = df['category_name'].nunique()\n",
        "print(f\"Number of unique category names: {unique_categories}\")"
      ],
      "metadata": {
        "colab": {
          "base_uri": "https://localhost:8080/"
        },
        "id": "DmzSV456veu8",
        "outputId": "5266b0e7-0b77-4ac6-d91f-f6e4bca1361f"
      },
      "execution_count": 11,
      "outputs": [
        {
          "output_type": "stream",
          "name": "stdout",
          "text": [
            "Number of unique category names: 2667\n"
          ]
        }
      ]
    },
    {
      "cell_type": "code",
      "source": [
        "# Step 3: Apply K-Means Clustering\n",
        "kmeans = KMeans(n_clusters=300)  # Adjust the number of clusters as needed\n",
        "df['cluster'] = kmeans.fit_predict(category_vectors)"
      ],
      "metadata": {
        "colab": {
          "base_uri": "https://localhost:8080/"
        },
        "id": "2T4N7gLbs0D_",
        "outputId": "81274bf8-9ed1-4ef8-8c50-3259f3d76a45"
      },
      "execution_count": 12,
      "outputs": [
        {
          "output_type": "stream",
          "name": "stderr",
          "text": [
            "/usr/local/lib/python3.10/dist-packages/sklearn/cluster/_kmeans.py:1416: FutureWarning: The default value of `n_init` will change from 10 to 'auto' in 1.4. Set the value of `n_init` explicitly to suppress the warning\n",
            "  super()._check_params_vs_input(X, default_n_init=10)\n"
          ]
        }
      ]
    },
    {
      "cell_type": "code",
      "source": [
        "print(df['cluster'])"
      ],
      "metadata": {
        "colab": {
          "base_uri": "https://localhost:8080/"
        },
        "id": "325ALMjMs6pR",
        "outputId": "ad481bbd-cd02-47fe-8b0d-82403a9b009f"
      },
      "execution_count": 13,
      "outputs": [
        {
          "output_type": "stream",
          "name": "stdout",
          "text": [
            "0         58\n",
            "1        189\n",
            "2         58\n",
            "3        131\n",
            "4        215\n",
            "        ... \n",
            "36118      0\n",
            "36119     65\n",
            "36120    118\n",
            "36121     79\n",
            "36122      7\n",
            "Name: cluster, Length: 36123, dtype: int32\n"
          ]
        }
      ]
    },
    {
      "cell_type": "code",
      "source": [
        "df.to_csv('/content/drive/MyDrive/BA Project/productClusered.csv', index=False,encoding='utf-8-sig')"
      ],
      "metadata": {
        "id": "5Ltq3V8Ss-cY"
      },
      "execution_count": 14,
      "outputs": []
    },
    {
      "cell_type": "code",
      "source": [],
      "metadata": {
        "id": "zUzlg4kntCpR"
      },
      "execution_count": null,
      "outputs": []
    }
  ]
}