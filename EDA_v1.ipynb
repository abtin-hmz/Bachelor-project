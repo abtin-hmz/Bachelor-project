{
 "cells": [
  {
   "cell_type": "code",
   "id": "initial_id",
   "metadata": {
    "collapsed": true,
    "ExecuteTime": {
     "end_time": "2024-10-15T08:06:03.346042Z",
     "start_time": "2024-10-15T08:06:03.325270Z"
    }
   },
   "source": [
    "import pandas as pd\n",
    "import matplotlib.pyplot as plt\n",
    "import arabic_reshaper\n",
    "from bidi.algorithm import get_display"
   ],
   "outputs": [],
   "execution_count": 12
  },
  {
   "metadata": {
    "ExecuteTime": {
     "end_time": "2024-10-15T07:53:10.530082Z",
     "start_time": "2024-10-15T07:52:55.107759Z"
    }
   },
   "cell_type": "code",
   "source": [
    "df = pd.read_csv(\"E:\\Bachelor Project\\contest_data_v1\\products-info_v1.csv\", encoding='utf-8')\n",
    "pd.index = df[\"id\"]\n",
    "df.head(10)"
   ],
   "id": "137ecc7410e8d44f",
   "outputs": [
    {
     "data": {
      "text/plain": [
       "        id     category_name  \\\n",
       "0  1867826         میکروسکوپ   \n",
       "1   419611  ماشین اسباب بازی   \n",
       "2   288575      کتاب و مجلات   \n",
       "3  4614227  لپ تاپ و نوت بوک   \n",
       "4  4108604      کتاب و مجلات   \n",
       "5  3744855     هارد اکسترنال   \n",
       "6  2341058        بارکد خوان   \n",
       "7  1719584        لنز دوربین   \n",
       "8  9149733        لنز دوربین   \n",
       "9  1458592        لنز دوربین   \n",
       "\n",
       "                                              titles   min_price   max_price  \\\n",
       "0         ['میکروسکوپ اپتیکی سلسترون مدل 44121 CGL']   1900000.0   2082000.0   \n",
       "1  ['ماشین بازی فورد موستانگ مایستو مدل 2015 Ford...         NaN         NaN   \n",
       "2  ['کتاب راهنمای کاربردی عیب یابی و تعمیر موتور ...     65000.0    100000.0   \n",
       "3  ['لپ تاپ مایکروسافت مدل سرفیس لپتاپ با پردازند...  43887600.0  48553000.0   \n",
       "4  ['کتاب اقیانوسی در ذهن كلر وندرپول', 'اقیانوسی...     36660.0     74000.0   \n",
       "5  ['ESD220C 120GB External SSD Drive', 'حافظه اس...         NaN         NaN   \n",
       "6  ['بارکد اسکنر DATALOGIC مدل Heron HD3430', 'با...     75000.0     75000.0   \n",
       "7  ['لنز FUJIFILM XF 16mm f/1.4 R WR', 'لنز Fujif...  29000000.0  29000000.0   \n",
       "8  ['لنز فوجی Fujifilm XF 23mm f/1.4 R', 'لنز Fuj...  25000000.0  25000000.0   \n",
       "9  ['لنز FUJIFILM XF 23mm f/2 R WR', 'لنز فوجی (F...  13500000.0  13500000.0   \n",
       "\n",
       "      avg_price  min_num_shops  max_num_shops  avg_num_shops  \n",
       "0  1.928314e+06              1              2       1.655303  \n",
       "1           NaN              0              0       0.000000  \n",
       "2  7.396341e+04              1              2       1.743902  \n",
       "3  4.648145e+07              1              1       1.000000  \n",
       "4  3.788296e+04              1              3       2.940000  \n",
       "5           NaN              0              0       0.000000  \n",
       "6  7.500000e+04              0              1       0.769231  \n",
       "7  2.900000e+07              1              2       1.947368  \n",
       "8  2.500000e+07              1              2       1.030303  \n",
       "9  1.350000e+07              2              3       2.729730  "
      ],
      "text/html": [
       "<div>\n",
       "<style scoped>\n",
       "    .dataframe tbody tr th:only-of-type {\n",
       "        vertical-align: middle;\n",
       "    }\n",
       "\n",
       "    .dataframe tbody tr th {\n",
       "        vertical-align: top;\n",
       "    }\n",
       "\n",
       "    .dataframe thead th {\n",
       "        text-align: right;\n",
       "    }\n",
       "</style>\n",
       "<table border=\"1\" class=\"dataframe\">\n",
       "  <thead>\n",
       "    <tr style=\"text-align: right;\">\n",
       "      <th></th>\n",
       "      <th>id</th>\n",
       "      <th>category_name</th>\n",
       "      <th>titles</th>\n",
       "      <th>min_price</th>\n",
       "      <th>max_price</th>\n",
       "      <th>avg_price</th>\n",
       "      <th>min_num_shops</th>\n",
       "      <th>max_num_shops</th>\n",
       "      <th>avg_num_shops</th>\n",
       "    </tr>\n",
       "  </thead>\n",
       "  <tbody>\n",
       "    <tr>\n",
       "      <th>0</th>\n",
       "      <td>1867826</td>\n",
       "      <td>میکروسکوپ</td>\n",
       "      <td>['میکروسکوپ اپتیکی سلسترون مدل 44121 CGL']</td>\n",
       "      <td>1900000.0</td>\n",
       "      <td>2082000.0</td>\n",
       "      <td>1.928314e+06</td>\n",
       "      <td>1</td>\n",
       "      <td>2</td>\n",
       "      <td>1.655303</td>\n",
       "    </tr>\n",
       "    <tr>\n",
       "      <th>1</th>\n",
       "      <td>419611</td>\n",
       "      <td>ماشین اسباب بازی</td>\n",
       "      <td>['ماشین بازی فورد موستانگ مایستو مدل 2015 Ford...</td>\n",
       "      <td>NaN</td>\n",
       "      <td>NaN</td>\n",
       "      <td>NaN</td>\n",
       "      <td>0</td>\n",
       "      <td>0</td>\n",
       "      <td>0.000000</td>\n",
       "    </tr>\n",
       "    <tr>\n",
       "      <th>2</th>\n",
       "      <td>288575</td>\n",
       "      <td>کتاب و مجلات</td>\n",
       "      <td>['کتاب راهنمای کاربردی عیب یابی و تعمیر موتور ...</td>\n",
       "      <td>65000.0</td>\n",
       "      <td>100000.0</td>\n",
       "      <td>7.396341e+04</td>\n",
       "      <td>1</td>\n",
       "      <td>2</td>\n",
       "      <td>1.743902</td>\n",
       "    </tr>\n",
       "    <tr>\n",
       "      <th>3</th>\n",
       "      <td>4614227</td>\n",
       "      <td>لپ تاپ و نوت بوک</td>\n",
       "      <td>['لپ تاپ مایکروسافت مدل سرفیس لپتاپ با پردازند...</td>\n",
       "      <td>43887600.0</td>\n",
       "      <td>48553000.0</td>\n",
       "      <td>4.648145e+07</td>\n",
       "      <td>1</td>\n",
       "      <td>1</td>\n",
       "      <td>1.000000</td>\n",
       "    </tr>\n",
       "    <tr>\n",
       "      <th>4</th>\n",
       "      <td>4108604</td>\n",
       "      <td>کتاب و مجلات</td>\n",
       "      <td>['کتاب اقیانوسی در ذهن كلر وندرپول', 'اقیانوسی...</td>\n",
       "      <td>36660.0</td>\n",
       "      <td>74000.0</td>\n",
       "      <td>3.788296e+04</td>\n",
       "      <td>1</td>\n",
       "      <td>3</td>\n",
       "      <td>2.940000</td>\n",
       "    </tr>\n",
       "    <tr>\n",
       "      <th>5</th>\n",
       "      <td>3744855</td>\n",
       "      <td>هارد اکسترنال</td>\n",
       "      <td>['ESD220C 120GB External SSD Drive', 'حافظه اس...</td>\n",
       "      <td>NaN</td>\n",
       "      <td>NaN</td>\n",
       "      <td>NaN</td>\n",
       "      <td>0</td>\n",
       "      <td>0</td>\n",
       "      <td>0.000000</td>\n",
       "    </tr>\n",
       "    <tr>\n",
       "      <th>6</th>\n",
       "      <td>2341058</td>\n",
       "      <td>بارکد خوان</td>\n",
       "      <td>['بارکد اسکنر DATALOGIC مدل Heron HD3430', 'با...</td>\n",
       "      <td>75000.0</td>\n",
       "      <td>75000.0</td>\n",
       "      <td>7.500000e+04</td>\n",
       "      <td>0</td>\n",
       "      <td>1</td>\n",
       "      <td>0.769231</td>\n",
       "    </tr>\n",
       "    <tr>\n",
       "      <th>7</th>\n",
       "      <td>1719584</td>\n",
       "      <td>لنز دوربین</td>\n",
       "      <td>['لنز FUJIFILM XF 16mm f/1.4 R WR', 'لنز Fujif...</td>\n",
       "      <td>29000000.0</td>\n",
       "      <td>29000000.0</td>\n",
       "      <td>2.900000e+07</td>\n",
       "      <td>1</td>\n",
       "      <td>2</td>\n",
       "      <td>1.947368</td>\n",
       "    </tr>\n",
       "    <tr>\n",
       "      <th>8</th>\n",
       "      <td>9149733</td>\n",
       "      <td>لنز دوربین</td>\n",
       "      <td>['لنز فوجی Fujifilm XF 23mm f/1.4 R', 'لنز Fuj...</td>\n",
       "      <td>25000000.0</td>\n",
       "      <td>25000000.0</td>\n",
       "      <td>2.500000e+07</td>\n",
       "      <td>1</td>\n",
       "      <td>2</td>\n",
       "      <td>1.030303</td>\n",
       "    </tr>\n",
       "    <tr>\n",
       "      <th>9</th>\n",
       "      <td>1458592</td>\n",
       "      <td>لنز دوربین</td>\n",
       "      <td>['لنز FUJIFILM XF 23mm f/2 R WR', 'لنز فوجی (F...</td>\n",
       "      <td>13500000.0</td>\n",
       "      <td>13500000.0</td>\n",
       "      <td>1.350000e+07</td>\n",
       "      <td>2</td>\n",
       "      <td>3</td>\n",
       "      <td>2.729730</td>\n",
       "    </tr>\n",
       "  </tbody>\n",
       "</table>\n",
       "</div>"
      ]
     },
     "execution_count": 2,
     "metadata": {},
     "output_type": "execute_result"
    }
   ],
   "execution_count": 2
  },
  {
   "metadata": {},
   "cell_type": "markdown",
   "source": "**Basic Informations**",
   "id": "f843478acb2756d7"
  },
  {
   "metadata": {
    "ExecuteTime": {
     "end_time": "2024-10-15T07:54:12.287349Z",
     "start_time": "2024-10-15T07:54:12.245690Z"
    }
   },
   "cell_type": "code",
   "source": "print(df.info())",
   "id": "71c58aa2c72b3280",
   "outputs": [
    {
     "name": "stdout",
     "output_type": "stream",
     "text": [
      "<class 'pandas.core.frame.DataFrame'>\n",
      "RangeIndex: 3612277 entries, 0 to 3612276\n",
      "Data columns (total 9 columns):\n",
      " #   Column         Dtype  \n",
      "---  ------         -----  \n",
      " 0   id             int64  \n",
      " 1   category_name  object \n",
      " 2   titles         object \n",
      " 3   min_price      float64\n",
      " 4   max_price      float64\n",
      " 5   avg_price      float64\n",
      " 6   min_num_shops  int64  \n",
      " 7   max_num_shops  int64  \n",
      " 8   avg_num_shops  float64\n",
      "dtypes: float64(4), int64(3), object(2)\n",
      "memory usage: 248.0+ MB\n",
      "None\n"
     ]
    }
   ],
   "execution_count": 3
  },
  {
   "metadata": {},
   "cell_type": "markdown",
   "source": "**Checking for Missing Values:**",
   "id": "eea7e4d81e42cf"
  },
  {
   "metadata": {
    "ExecuteTime": {
     "end_time": "2024-10-15T07:55:00.774163Z",
     "start_time": "2024-10-15T07:55:00.104153Z"
    }
   },
   "cell_type": "code",
   "source": "print(df.isnull().sum())",
   "id": "4e8f797c043e1451",
   "outputs": [
    {
     "name": "stdout",
     "output_type": "stream",
     "text": [
      "id                    0\n",
      "category_name         0\n",
      "titles                0\n",
      "min_price        501154\n",
      "max_price        501154\n",
      "avg_price        501154\n",
      "min_num_shops         0\n",
      "max_num_shops         0\n",
      "avg_num_shops         0\n",
      "dtype: int64\n"
     ]
    }
   ],
   "execution_count": 4
  },
  {
   "metadata": {},
   "cell_type": "markdown",
   "source": "Probably, these products that do not have a price are not available in the store",
   "id": "c454cdd6845f3ed1"
  },
  {
   "metadata": {},
   "cell_type": "markdown",
   "source": "What should we do?!",
   "id": "5035b09b1eee8aec"
  },
  {
   "metadata": {},
   "cell_type": "markdown",
   "source": "**Top 10 Category plot**",
   "id": "d2622fa20b718950"
  },
  {
   "metadata": {
    "ExecuteTime": {
     "end_time": "2024-10-15T08:07:34.805088Z",
     "start_time": "2024-10-15T08:07:34.129535Z"
    }
   },
   "cell_type": "code",
   "source": [
    "# Assuming the DataFrame is named df\n",
    "# Step 1: Count occurrences of each unique category_name\n",
    "category_counts = df['category_name'].value_counts()\n",
    "# Step 2: Sort these counts (already sorted by value_counts)\n",
    "# Step 3: Select the top ten most frequent categories\n",
    "# Reshape the Arabic text in index for the plot labels\n",
    "reshaped_labels = [get_display(arabic_reshaper.reshape(label)) for label in top_10_categories.index]\n",
    "plt.figure(figsize=(12, 8))\n",
    "top_10_categories.plot(kind='bar')\n",
    "# Set reshaped labels\n",
    "plt.xticks(ticks=range(len(reshaped_labels)), labels=reshaped_labels, rotation=45)\n",
    "plt.title('Top 10 Most Frequent Categories')\n",
    "plt.xlabel('Category Name')\n",
    "plt.ylabel('Count')\n",
    "plt.show()"
   ],
   "id": "71d4a3c223d664cf",
   "outputs": [
    {
     "data": {
      "text/plain": [
       "<Figure size 1200x800 with 1 Axes>"
      ],
      "image/png": "[encoded data removed]"
     },
     "metadata": {},
     "output_type": "display_data"
    }
   ],
   "execution_count": 13
  },
  {
   "metadata": {},
   "cell_type": "markdown",
   "source": "**Top 5 titles in each top 3 categories**",
   "id": "347d32f83c6115b0"
  },
  {
   "metadata": {
    "ExecuteTime": {
     "end_time": "2024-10-15T08:11:36.679322Z",
     "start_time": "2024-10-15T08:10:40.895827Z"
    }
   },
   "cell_type": "code",
   "source": [
    "# Group by category_name and sort each group by avg_price in descending order\n",
    "grouped = df.groupby('category_name', group_keys=False).apply(lambda x: x.sort_values('avg_price', ascending=False))\n",
    "# Get the top 5 titles in each category\n",
    "top_titles_in_categories = grouped.groupby('category_name').head(5)\n",
    "# Get the top 3 categories based on the number of entries\n",
    "top_categories = df['category_name'].value_counts().head(3).index\n",
    "# Filter the top titles to include only those in the top 3 categories\n",
    "top_titles_in_top_categories = top_titles_in_categories[top_titles_in_categories['category_name'].isin(top_categories)]\n",
    "# Print the result\n",
    "for category in top_categories:\n",
    "    print(f\"Category: {category}\")\n",
    "    print(top_titles_in_top_categories[top_titles_in_top_categories['category_name'] == category]['titles'])\n",
    "    print(\"\\n\")"
   ],
   "id": "5ddb9fb42ea168b8",
   "outputs": [
    {
     "name": "stdout",
     "output_type": "stream",
     "text": [
      "Category: کتاب و مجلات\n",
      "25901      ['رییس جمهور روز جشن میلاد جولای 36 میلیمتری ب...\n",
      "56120              ['کتاب Gravity Falls ژورنال 3 نسخه ویژه']\n",
      "3505880    ['امگا اسپیدمستر سنسور هم محوری \"قسمت تاریک ما...\n",
      "1583178           ['کتاب مرجع کامل آموزش سروهای سری ProNet']\n",
      "1657394                             ['کتاب اتوماسیون صنعتی']\n",
      "Name: titles, dtype: object\n",
      "\n",
      "\n",
      "Category: کیف و کاور گوشی\n",
      "802115     ['قالب لاستیکی لمينت او سی ای سامسونگ SAMSUNG ...\n",
      "3596853       ['قاب گوشی مدل Moshi Overture Case iPhone 13']\n",
      "2194858    ['مورد محافظ نرم سیلیکون Nokia 3.1 Plus Black ...\n",
      "2462636                             ['قاب مدل اپل چراغ دار']\n",
      "2679604                           ['قاب موبایل اپل13پرومکس']\n",
      "Name: titles, dtype: object\n",
      "\n",
      "\n",
      "Category: ساعت مچی عقربه‌ ای و دیجیتالی\n",
      "25839      [\"Patek Philippe Aquanaut Men's Watch - 5167/1...\n",
      "146086                ['ساعت مچی عقربه ای مردانه کد 116618']\n",
      "25734                        ['PatekPhilippe Aquanau 5167A']\n",
      "2798008    ['ساعت مچی مردانه Hublot Classic Fusion Chrono...\n",
      "24479      ['Hublot King Power F1 مردان Chrono رز 18K طلا...\n",
      "Name: titles, dtype: object\n",
      "\n",
      "\n"
     ]
    }
   ],
   "execution_count": 14
  },
  {
   "metadata": {},
   "cell_type": "markdown",
   "source": "**Number of unique categories**",
   "id": "87ecc92ddaed996d"
  },
  {
   "metadata": {
    "ExecuteTime": {
     "end_time": "2024-10-15T08:19:28.051039Z",
     "start_time": "2024-10-15T08:19:27.557446Z"
    }
   },
   "cell_type": "code",
   "source": [
    "# Number of unique category_name values\n",
    "unique_categories = df['category_name'].nunique()\n",
    "print(f\"Number of unique category names: {unique_categories}\")"
   ],
   "id": "e0cffb3acd643f08",
   "outputs": [
    {
     "name": "stdout",
     "output_type": "stream",
     "text": [
      "Number of unique category names: 3569\n"
     ]
    }
   ],
   "execution_count": 15
  },
  {
   "metadata": {},
   "cell_type": "markdown",
   "source": "**How many products are there in each unique category?**",
   "id": "fd78bdddb7fccfb4"
  },
  {
   "metadata": {},
   "cell_type": "markdown",
   "source": "In each unique category, the lowest price of \"min_price\" of all products of that category and the highest price of \"max_price\" of all products of that category and the average price of \"avg_price\" of all products of each category.",
   "id": "796823463096d355"
  },
  {
   "metadata": {},
   "cell_type": "markdown",
   "source": "The statistic of each unique categories",
   "id": "d8086f81d0176f6a"
  },
  {
   "metadata": {
    "ExecuteTime": {
     "end_time": "2024-10-15T08:31:07.281256Z",
     "start_time": "2024-10-15T08:31:05.894511Z"
    }
   },
   "cell_type": "code",
   "source": [
    "# Group by 'category_name' and calculate the required statistics\n",
    "category_stats = df.groupby('category_name').agg(\n",
    "    product_count=('id', 'size'),  # Counting the number of products\n",
    "    lowest_min_price=('min_price', 'min'),\n",
    "    highest_max_price=('max_price', 'max'),\n",
    "    average_avg_price=('avg_price', 'mean')\n",
    ").reset_index()\n",
    "category_stats.to_csv(\"E:\\Bachelor Project\\workspace_products\\category_stats.csv\", index= False, encoding= \"utf-8-sig\")\n",
    "category_stats.head()"
   ],
   "id": "a6a441e25d875046",
   "outputs": [
    {
     "data": {
      "text/plain": [
       "         category_name  product_count  lowest_min_price  highest_max_price  \\\n",
       "0         CD و DVD خام            346               1.0         14916600.0   \n",
       "1            ECU خودرو            305            2000.0         50900000.0   \n",
       "2         PCB ال ای دی              6             850.0           180000.0   \n",
       "3          آب انارگیری             12          119900.0          1090000.0   \n",
       "4  آب سردکن و تصفیه آب             14         2400000.0          5460000.0   \n",
       "\n",
       "   average_avg_price  \n",
       "0       2.385150e+05  \n",
       "1       4.045644e+06  \n",
       "2       5.949226e+04  \n",
       "3       6.592056e+05  \n",
       "4       3.930000e+06  "
      ],
      "text/html": [
       "<div>\n",
       "<style scoped>\n",
       "    .dataframe tbody tr th:only-of-type {\n",
       "        vertical-align: middle;\n",
       "    }\n",
       "\n",
       "    .dataframe tbody tr th {\n",
       "        vertical-align: top;\n",
       "    }\n",
       "\n",
       "    .dataframe thead th {\n",
       "        text-align: right;\n",
       "    }\n",
       "</style>\n",
       "<table border=\"1\" class=\"dataframe\">\n",
       "  <thead>\n",
       "    <tr style=\"text-align: right;\">\n",
       "      <th></th>\n",
       "      <th>category_name</th>\n",
       "      <th>product_count</th>\n",
       "      <th>lowest_min_price</th>\n",
       "      <th>highest_max_price</th>\n",
       "      <th>average_avg_price</th>\n",
       "    </tr>\n",
       "  </thead>\n",
       "  <tbody>\n",
       "    <tr>\n",
       "      <th>0</th>\n",
       "      <td>CD و DVD خام</td>\n",
       "      <td>346</td>\n",
       "      <td>1.0</td>\n",
       "      <td>14916600.0</td>\n",
       "      <td>2.385150e+05</td>\n",
       "    </tr>\n",
       "    <tr>\n",
       "      <th>1</th>\n",
       "      <td>ECU خودرو</td>\n",
       "      <td>305</td>\n",
       "      <td>2000.0</td>\n",
       "      <td>50900000.0</td>\n",
       "      <td>4.045644e+06</td>\n",
       "    </tr>\n",
       "    <tr>\n",
       "      <th>2</th>\n",
       "      <td>PCB ال ای دی</td>\n",
       "      <td>6</td>\n",
       "      <td>850.0</td>\n",
       "      <td>180000.0</td>\n",
       "      <td>5.949226e+04</td>\n",
       "    </tr>\n",
       "    <tr>\n",
       "      <th>3</th>\n",
       "      <td>آب انارگیری</td>\n",
       "      <td>12</td>\n",
       "      <td>119900.0</td>\n",
       "      <td>1090000.0</td>\n",
       "      <td>6.592056e+05</td>\n",
       "    </tr>\n",
       "    <tr>\n",
       "      <th>4</th>\n",
       "      <td>آب سردکن و تصفیه آب</td>\n",
       "      <td>14</td>\n",
       "      <td>2400000.0</td>\n",
       "      <td>5460000.0</td>\n",
       "      <td>3.930000e+06</td>\n",
       "    </tr>\n",
       "  </tbody>\n",
       "</table>\n",
       "</div>"
      ]
     },
     "execution_count": 16,
     "metadata": {},
     "output_type": "execute_result"
    }
   ],
   "execution_count": 16
  }
 ],
 "metadata": {
  "kernelspec": {
   "display_name": "Python 3",
   "language": "python",
   "name": "python3"
  },
  "language_info": {
   "codemirror_mode": {
    "name": "ipython",
    "version": 2
   },
   "file_extension": ".py",
   "mimetype": "text/x-python",
   "name": "python",
   "nbconvert_exporter": "python",
   "pygments_lexer": "ipython2",
   "version": "2.7.6"
  }
 },
 "nbformat": 4,
 "nbformat_minor": 5
}
