{
 "cells": [
  {
   "metadata": {},
   "cell_type": "markdown",
   "source": [
    "\n",
    "**Load data into one dataset** df is the full of product dataset in pandas"
   ],
   "id": "1feeb06ee9979a3d"
  },
  {
   "cell_type": "code",
   "execution_count": null,
   "id": "initial_id",
   "metadata": {
    "collapsed": true
   },
   "outputs": [],
   "source": [
    "import pandas as pd\n",
    "data = pd.read_json('E:\\Licsense Project\\FirstTry\\products-info_v1.jsonl', lines=True, chunksize=100000, encoding='utf-8')\n",
    "\n",
    "df = pd.concat(data)\n",
    "\n",
    "pd.index = df[\"id\"]"
   ]
  },
  {
   "metadata": {},
   "cell_type": "markdown",
   "source": "**save the dataset of product in csv**",
   "id": "32a92c11c52d62ab"
  },
  {
   "metadata": {},
   "cell_type": "code",
   "outputs": [],
   "execution_count": null,
   "source": "df.to_csv('E:\\Licsense Project\\FirstTry\\products-info_v1.csv', index=False,encoding='utf-8-sig')",
   "id": "fb344388f9bbe19c"
  },
  {
   "metadata": {},
   "cell_type": "markdown",
   "source": "Sampled DataSet to 10 and sampled_Product is in pandas ",
   "id": "5117603f070fcb5e"
  },
  {
   "metadata": {
    "ExecuteTime": {
     "end_time": "2024-10-10T11:00:35.942054Z",
     "start_time": "2024-10-10T11:00:35.329814Z"
    }
   },
   "cell_type": "code",
   "source": [
    "# Select every 10,000th record\n",
    "sampled_Product = df.iloc[::10]\n",
    "\n",
    "# Reset index for clarity (optional)\n",
    "sampled_Product.reset_index(drop=True, inplace=True)"
   ],
   "id": "5813ed1b963c0cd",
   "outputs": [
    {
     "ename": "NameError",
     "evalue": "name 'df' is not defined",
     "output_type": "error",
     "traceback": [
      "\u001B[1;31m---------------------------------------------------------------------------\u001B[0m",
      "\u001B[1;31mNameError\u001B[0m                                 Traceback (most recent call last)",
      "Cell \u001B[1;32mIn[1], line 2\u001B[0m\n\u001B[0;32m      1\u001B[0m \u001B[38;5;66;03m# Select every 10,000th record\u001B[39;00m\n\u001B[1;32m----> 2\u001B[0m sampled_Product \u001B[38;5;241m=\u001B[39m \u001B[43mdf\u001B[49m\u001B[38;5;241m.\u001B[39miloc[::\u001B[38;5;241m10\u001B[39m]\n\u001B[0;32m      4\u001B[0m \u001B[38;5;66;03m# Reset index for clarity (optional)\u001B[39;00m\n\u001B[0;32m      5\u001B[0m sampled_Product\u001B[38;5;241m.\u001B[39mreset_index(drop\u001B[38;5;241m=\u001B[39m\u001B[38;5;28;01mTrue\u001B[39;00m, inplace\u001B[38;5;241m=\u001B[39m\u001B[38;5;28;01mTrue\u001B[39;00m)\n",
      "\u001B[1;31mNameError\u001B[0m: name 'df' is not defined"
     ]
    }
   ],
   "execution_count": 1
  },
  {
   "metadata": {},
   "cell_type": "markdown",
   "source": "Save \"productSampled.csv\" as a sample of the data by 10 in csv",
   "id": "aaa5dc2378dce81e"
  },
  {
   "metadata": {},
   "cell_type": "code",
   "outputs": [],
   "execution_count": null,
   "source": "sampled_Product.to_csv(\"productSampled.csv\", index=False, encoding='utf-8-sig')",
   "id": "7c385e11f5394e01"
  },
  {
   "metadata": {},
   "cell_type": "markdown",
   "source": "**Load the test offline dataset to findout what they are**",
   "id": "29ea89bad58945bf"
  },
  {
   "metadata": {},
   "cell_type": "code",
   "outputs": [],
   "execution_count": null,
   "source": [
    "import pandas as pd\n",
    "dataTest = pd.read_json(r'E:\\Licsense Project\\searcheVisual\\test-offline-data_v1.jsonl', lines=True, chunksize=100000)\n",
    "dfTest = pd.concat(dataTest)"
   ],
   "id": "cae639d9e1e51f5b"
  },
  {
   "metadata": {},
   "cell_type": "markdown",
   "source": "**Save the test offline dataset to a csv file**",
   "id": "ce4af8e40600b363"
  },
  {
   "metadata": {},
   "cell_type": "code",
   "outputs": [],
   "execution_count": null,
   "source": "dfTest.to_csv('test-offline-data.csv', index=False, encoding='utf-8-sig')",
   "id": "775c8abd115ab64d"
  },
  {
   "metadata": {},
   "cell_type": "markdown",
   "source": "**Load the torob search dataset to findout what they are**",
   "id": "e63bb5fd1144a206"
  },
  {
   "metadata": {},
   "cell_type": "code",
   "outputs": [],
   "execution_count": null,
   "source": [
    "import pandas as pd\n",
    "dataTorob = pd.read_json(r'E:\\Licsense Project\\searcheVisual\\torob-search-data_v1.jsonl', lines=True, chunksize=100000)\n",
    "dfTorob = pd.concat(dataTorob)"
   ],
   "id": "1ac219865ce20192"
  },
  {
   "metadata": {},
   "cell_type": "markdown",
   "source": "**Save the torob search dataset to a csv file**",
   "id": "4af22fdc9b889995"
  },
  {
   "metadata": {},
   "cell_type": "code",
   "outputs": [],
   "execution_count": null,
   "source": "dfTorob.to_csv('torob-search-data.csv', index=False, encoding='utf-8-sig')",
   "id": "71a707ccb044f768"
  }
 ],
 "metadata": {
  "kernelspec": {
   "display_name": "Python 3",
   "language": "python",
   "name": "python3"
  },
  "language_info": {
   "codemirror_mode": {
    "name": "ipython",
    "version": 2
   },
   "file_extension": ".py",
   "mimetype": "text/x-python",
   "name": "python",
   "nbconvert_exporter": "python",
   "pygments_lexer": "ipython2",
   "version": "2.7.6"
  }
 },
 "nbformat": 4,
 "nbformat_minor": 5
}
