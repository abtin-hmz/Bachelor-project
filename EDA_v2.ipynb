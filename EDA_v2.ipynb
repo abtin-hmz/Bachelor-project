{
 "cells": [
  {
   "cell_type": "markdown",
   "id": "eab8c2136ece68ff",
   "metadata": {},
   "source": [
    "Load the test offline dataset to findout what they are"
   ]
  },
  {
   "cell_type": "code",
   "id": "192c9423aaf043c5",
   "metadata": {
    "ExecuteTime": {
     "end_time": "2024-11-20T13:33:00.945973Z",
     "start_time": "2024-11-20T13:33:00.349435Z"
    }
   },
   "source": [
    "import pandas as pd\n",
    "dataTest = pd.read_json(r'E:\\Bachelor Project\\contest_data_v1\\test-offline-data_v1.jsonl', lines=True, chunksize=100000)\n",
    "dfTest = pd.concat(dataTest)"
   ],
   "outputs": [],
   "execution_count": 2
  },
  {
   "metadata": {
    "ExecuteTime": {
     "end_time": "2024-11-20T13:33:34.489582Z",
     "start_time": "2024-11-20T13:33:34.476895Z"
    }
   },
   "cell_type": "code",
   "source": "dfTest.head()",
   "id": "20e84bfd54fae088",
   "outputs": [
    {
     "data": {
      "text/plain": [
       "       raw_query                                  result_not_ranked\n",
       "0         s20 fe  [8823764, 5812326, 4182687, 4343057, 5325921, ...\n",
       "1  سبد نظم دهنده  [989687, 8683232, 8033945, 6700778, 1751754, 6...\n",
       "2       گوشی s12  [5311585, 4966652, 6263288, 6276873, 2987374, ...\n",
       "3       کیک تولد  [363245, 1969800, 4402390, 7648096, 7839856, 2...\n",
       "4           هارد  [574920, 3033117, 7857191, 483723, 4872744, 74..."
      ],
      "text/html": [
       "<div>\n",
       "<style scoped>\n",
       "    .dataframe tbody tr th:only-of-type {\n",
       "        vertical-align: middle;\n",
       "    }\n",
       "\n",
       "    .dataframe tbody tr th {\n",
       "        vertical-align: top;\n",
       "    }\n",
       "\n",
       "    .dataframe thead th {\n",
       "        text-align: right;\n",
       "    }\n",
       "</style>\n",
       "<table border=\"1\" class=\"dataframe\">\n",
       "  <thead>\n",
       "    <tr style=\"text-align: right;\">\n",
       "      <th></th>\n",
       "      <th>raw_query</th>\n",
       "      <th>result_not_ranked</th>\n",
       "    </tr>\n",
       "  </thead>\n",
       "  <tbody>\n",
       "    <tr>\n",
       "      <th>0</th>\n",
       "      <td>s20 fe</td>\n",
       "      <td>[8823764, 5812326, 4182687, 4343057, 5325921, ...</td>\n",
       "    </tr>\n",
       "    <tr>\n",
       "      <th>1</th>\n",
       "      <td>سبد نظم دهنده</td>\n",
       "      <td>[989687, 8683232, 8033945, 6700778, 1751754, 6...</td>\n",
       "    </tr>\n",
       "    <tr>\n",
       "      <th>2</th>\n",
       "      <td>گوشی s12</td>\n",
       "      <td>[5311585, 4966652, 6263288, 6276873, 2987374, ...</td>\n",
       "    </tr>\n",
       "    <tr>\n",
       "      <th>3</th>\n",
       "      <td>کیک تولد</td>\n",
       "      <td>[363245, 1969800, 4402390, 7648096, 7839856, 2...</td>\n",
       "    </tr>\n",
       "    <tr>\n",
       "      <th>4</th>\n",
       "      <td>هارد</td>\n",
       "      <td>[574920, 3033117, 7857191, 483723, 4872744, 74...</td>\n",
       "    </tr>\n",
       "  </tbody>\n",
       "</table>\n",
       "</div>"
      ]
     },
     "execution_count": 4,
     "metadata": {},
     "output_type": "execute_result"
    }
   ],
   "execution_count": 4
  },
  {
   "metadata": {
    "ExecuteTime": {
     "end_time": "2024-11-20T13:34:57.371253Z",
     "start_time": "2024-11-20T13:34:57.360561Z"
    }
   },
   "cell_type": "code",
   "source": "dfTest.info()",
   "id": "728982efdb82ed",
   "outputs": [
    {
     "name": "stdout",
     "output_type": "stream",
     "text": [
      "<class 'pandas.core.frame.DataFrame'>\n",
      "RangeIndex: 23140 entries, 0 to 23139\n",
      "Data columns (total 2 columns):\n",
      " #   Column             Non-Null Count  Dtype \n",
      "---  ------             --------------  ----- \n",
      " 0   raw_query          23140 non-null  object\n",
      " 1   result_not_ranked  23140 non-null  object\n",
      "dtypes: object(2)\n",
      "memory usage: 361.7+ KB\n"
     ]
    }
   ],
   "execution_count": 6
  },
  {
   "metadata": {
    "ExecuteTime": {
     "end_time": "2024-11-20T13:40:29.616648Z",
     "start_time": "2024-11-20T13:40:29.608141Z"
    }
   },
   "cell_type": "code",
   "source": "print(dfTest.isnull().sum())",
   "id": "54f0c0f014c8c26c",
   "outputs": [
    {
     "name": "stdout",
     "output_type": "stream",
     "text": [
      "raw_query            0\n",
      "result_not_ranked    0\n",
      "dtype: int64\n"
     ]
    }
   ],
   "execution_count": 13
  },
  {
   "cell_type": "markdown",
   "id": "207afc89ca20c497",
   "metadata": {},
   "source": [
    "Save the test offline dataset to a csv file"
   ]
  },
  {
   "cell_type": "code",
   "id": "acddfa4e0adcd48a",
   "metadata": {
    "ExecuteTime": {
     "end_time": "2024-11-20T13:34:08.100169Z",
     "start_time": "2024-11-20T13:34:07.618852Z"
    }
   },
   "source": [
    "dfTest.to_csv('test-offline-data.csv', index=False, encoding='utf-8-sig')"
   ],
   "outputs": [],
   "execution_count": 5
  },
  {
   "cell_type": "markdown",
   "id": "a05974c5e0004401",
   "metadata": {},
   "source": [
    "Load the torob search dataset to findout what they are"
   ]
  },
  {
   "cell_type": "code",
   "id": "e3a7524550590b42",
   "metadata": {
    "ExecuteTime": {
     "end_time": "2024-11-20T13:36:49.834313Z",
     "start_time": "2024-11-20T13:36:03.600205Z"
    }
   },
   "source": [
    "import pandas as pd\n",
    "dataTorob = pd.read_json(r'E:\\Bachelor Project\\contest_data_v1\\torob-search-data_v1.jsonl', lines=True, chunksize=100000,encoding='utf-8-sig')\n",
    "dfTorob = pd.concat(dataTorob)"
   ],
   "outputs": [],
   "execution_count": 8
  },
  {
   "metadata": {
    "ExecuteTime": {
     "end_time": "2024-11-20T13:37:04.252425Z",
     "start_time": "2024-11-20T13:37:04.239504Z"
    }
   },
   "cell_type": "code",
   "source": "dfTorob.head()",
   "id": "ce0ae3e8a18702c0",
   "outputs": [
    {
     "data": {
      "text/plain": [
       "         raw_query                                             result  \\\n",
       "0  لوستر سقفی برنز  [7151290, 6462477, 7385791, 8451497, None, 269...   \n",
       "1    قیمت هلیکوپتر  [363737, 3147253, 8720128, 9796388, 1420685, 5...   \n",
       "2      ساعت هوشمند  [2459592, 9391819, 4229448, 7824893, 1670767, ...   \n",
       "3       تفلون مایع  [5428407, 4474271, 4581189, 8504749, 4131340, ...   \n",
       "4            خط زن  [8466568, 9285461, 1105044, 1314054, 1791930, ...   \n",
       "\n",
       "                         clicked_result      clicked_rank  \\\n",
       "0                             [9457219]              [16]   \n",
       "1                    [3147253, 7135387]            [1, 7]   \n",
       "2              [900897, 2931230, 31302]       [7, 25, 52]   \n",
       "3  [7660686, 5901997, 2376830, 2383125]  [19, 18, 21, 36]   \n",
       "4                             [3852139]              [20]   \n",
       "\n",
       "                         timestamp  \n",
       "0 2022-07-24 09:21:58.752000+00:00  \n",
       "1 2022-07-24 07:32:12.261000+00:00  \n",
       "2 2022-07-24 02:51:35.643000+00:00  \n",
       "3 2022-07-24 02:51:54.771000+00:00  \n",
       "4 2022-07-23 20:56:36.043000+00:00  "
      ],
      "text/html": [
       "<div>\n",
       "<style scoped>\n",
       "    .dataframe tbody tr th:only-of-type {\n",
       "        vertical-align: middle;\n",
       "    }\n",
       "\n",
       "    .dataframe tbody tr th {\n",
       "        vertical-align: top;\n",
       "    }\n",
       "\n",
       "    .dataframe thead th {\n",
       "        text-align: right;\n",
       "    }\n",
       "</style>\n",
       "<table border=\"1\" class=\"dataframe\">\n",
       "  <thead>\n",
       "    <tr style=\"text-align: right;\">\n",
       "      <th></th>\n",
       "      <th>raw_query</th>\n",
       "      <th>result</th>\n",
       "      <th>clicked_result</th>\n",
       "      <th>clicked_rank</th>\n",
       "      <th>timestamp</th>\n",
       "    </tr>\n",
       "  </thead>\n",
       "  <tbody>\n",
       "    <tr>\n",
       "      <th>0</th>\n",
       "      <td>لوستر سقفی برنز</td>\n",
       "      <td>[7151290, 6462477, 7385791, 8451497, None, 269...</td>\n",
       "      <td>[9457219]</td>\n",
       "      <td>[16]</td>\n",
       "      <td>2022-07-24 09:21:58.752000+00:00</td>\n",
       "    </tr>\n",
       "    <tr>\n",
       "      <th>1</th>\n",
       "      <td>قیمت هلیکوپتر</td>\n",
       "      <td>[363737, 3147253, 8720128, 9796388, 1420685, 5...</td>\n",
       "      <td>[3147253, 7135387]</td>\n",
       "      <td>[1, 7]</td>\n",
       "      <td>2022-07-24 07:32:12.261000+00:00</td>\n",
       "    </tr>\n",
       "    <tr>\n",
       "      <th>2</th>\n",
       "      <td>ساعت هوشمند</td>\n",
       "      <td>[2459592, 9391819, 4229448, 7824893, 1670767, ...</td>\n",
       "      <td>[900897, 2931230, 31302]</td>\n",
       "      <td>[7, 25, 52]</td>\n",
       "      <td>2022-07-24 02:51:35.643000+00:00</td>\n",
       "    </tr>\n",
       "    <tr>\n",
       "      <th>3</th>\n",
       "      <td>تفلون مایع</td>\n",
       "      <td>[5428407, 4474271, 4581189, 8504749, 4131340, ...</td>\n",
       "      <td>[7660686, 5901997, 2376830, 2383125]</td>\n",
       "      <td>[19, 18, 21, 36]</td>\n",
       "      <td>2022-07-24 02:51:54.771000+00:00</td>\n",
       "    </tr>\n",
       "    <tr>\n",
       "      <th>4</th>\n",
       "      <td>خط زن</td>\n",
       "      <td>[8466568, 9285461, 1105044, 1314054, 1791930, ...</td>\n",
       "      <td>[3852139]</td>\n",
       "      <td>[20]</td>\n",
       "      <td>2022-07-23 20:56:36.043000+00:00</td>\n",
       "    </tr>\n",
       "  </tbody>\n",
       "</table>\n",
       "</div>"
      ]
     },
     "execution_count": 9,
     "metadata": {},
     "output_type": "execute_result"
    }
   ],
   "execution_count": 9
  },
  {
   "metadata": {
    "ExecuteTime": {
     "end_time": "2024-11-20T13:37:19.444177Z",
     "start_time": "2024-11-20T13:37:19.434193Z"
    }
   },
   "cell_type": "code",
   "source": "dfTorob.info()",
   "id": "224eaf3ee48ca80c",
   "outputs": [
    {
     "name": "stdout",
     "output_type": "stream",
     "text": [
      "<class 'pandas.core.frame.DataFrame'>\n",
      "RangeIndex: 2499901 entries, 0 to 2499900\n",
      "Data columns (total 5 columns):\n",
      " #   Column          Dtype              \n",
      "---  ------          -----              \n",
      " 0   raw_query       object             \n",
      " 1   result          object             \n",
      " 2   clicked_result  object             \n",
      " 3   clicked_rank    object             \n",
      " 4   timestamp       datetime64[ns, UTC]\n",
      "dtypes: datetime64[ns, UTC](1), object(4)\n",
      "memory usage: 95.4+ MB\n"
     ]
    }
   ],
   "execution_count": 10
  },
  {
   "cell_type": "markdown",
   "id": "fb9fe360d5bc7b89",
   "metadata": {},
   "source": [
    "Save the torob search dataset to a csv file"
   ]
  },
  {
   "cell_type": "code",
   "id": "1b201391ea16d2c0",
   "metadata": {
    "ExecuteTime": {
     "end_time": "2024-11-20T13:39:51.289813Z",
     "start_time": "2024-11-20T13:39:50.200363Z"
    }
   },
   "source": [
    "print(dfTorob.isnull().sum())"
   ],
   "outputs": [
    {
     "name": "stdout",
     "output_type": "stream",
     "text": [
      "raw_query         0\n",
      "result            0\n",
      "clicked_result    0\n",
      "clicked_rank      0\n",
      "timestamp         0\n",
      "dtype: int64\n"
     ]
    }
   ],
   "execution_count": 12
  },
  {
   "metadata": {},
   "cell_type": "markdown",
   "source": "**This is very important**",
   "id": "219d2c685d0ee8cd"
  },
  {
   "metadata": {
    "ExecuteTime": {
     "end_time": "2024-11-20T13:43:55.876756Z",
     "start_time": "2024-11-20T13:43:54.922288Z"
    }
   },
   "cell_type": "code",
   "source": [
    "unique_raw_queries = dfTorob['raw_query'].nunique()\n",
    "print(f\"Number of unique raw_query values: {unique_raw_queries}\")"
   ],
   "id": "b2df886667aea7a5",
   "outputs": [
    {
     "name": "stdout",
     "output_type": "stream",
     "text": [
      "Number of unique raw_query values: 270099\n"
     ]
    }
   ],
   "execution_count": 15
  },
  {
   "metadata": {
    "ExecuteTime": {
     "end_time": "2024-11-20T13:38:40.995828Z",
     "start_time": "2024-11-20T13:37:41.017530Z"
    }
   },
   "cell_type": "code",
   "outputs": [],
   "execution_count": 11,
   "source": "dfTorob.to_csv('torob-search-data.csv', index=False, encoding='utf-8-sig')",
   "id": "2d6be2f95e5e234a"
  }
 ],
 "metadata": {
  "kernelspec": {
   "display_name": "Python 3",
   "language": "python",
   "name": "python3"
  },
  "language_info": {
   "codemirror_mode": {
    "name": "ipython",
    "version": 2
   },
   "file_extension": ".py",
   "mimetype": "text/x-python",
   "name": "python",
   "nbconvert_exporter": "python",
   "pygments_lexer": "ipython2",
   "version": "2.7.6"
  }
 },
 "nbformat": 4,
 "nbformat_minor": 5
}
