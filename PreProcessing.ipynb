{
 "cells": [
  {
   "metadata": {},
   "cell_type": "markdown",
   "source": "**Normalize the \"titles\" attribute**",
   "id": "bb8143db7aae11a3"
  },
  {
   "metadata": {},
   "cell_type": "markdown",
   "source": [
    "Replace multiple spaces with a single space\n",
    "Remove non-alphanumeric characters\n",
    "Convert non-string entries to strings"
   ],
   "id": "aca6b50e2200fb5a"
  },
  {
   "cell_type": "code",
   "id": "initial_id",
   "metadata": {
    "collapsed": true,
    "ExecuteTime": {
     "end_time": "2024-10-31T10:31:44.530987Z",
     "start_time": "2024-10-31T10:31:44.522483Z"
    }
   },
   "source": [
    "import pandas as pd\n",
    "import re"
   ],
   "outputs": [],
   "execution_count": 2
  },
  {
   "metadata": {
    "ExecuteTime": {
     "end_time": "2024-10-31T10:32:52.832574Z",
     "start_time": "2024-10-31T10:32:34.327232Z"
    }
   },
   "cell_type": "code",
   "source": "df = pd.read_csv(\"E:\\Bachelor Project\\contest_data_v1\\products-info_v1.csv\")",
   "id": "4be7c72c50df5d78",
   "outputs": [],
   "execution_count": 3
  },
  {
   "metadata": {
    "ExecuteTime": {
     "end_time": "2024-10-31T10:34:13.553281Z",
     "start_time": "2024-10-31T10:34:13.541225Z"
    }
   },
   "cell_type": "code",
   "source": "print(df['titles'])",
   "id": "91d7c2f8dff03eb",
   "outputs": [
    {
     "name": "stdout",
     "output_type": "stream",
     "text": [
      "0                 ['میکروسکوپ اپتیکی سلسترون مدل 44121 CGL']\n",
      "1          ['ماشین بازی فورد موستانگ مایستو مدل 2015 Ford...\n",
      "2          ['کتاب راهنمای کاربردی عیب یابی و تعمیر موتور ...\n",
      "3          ['لپ تاپ مایکروسافت مدل سرفیس لپتاپ با پردازند...\n",
      "4          ['کتاب اقیانوسی در ذهن كلر وندرپول', 'اقیانوسی...\n",
      "                                 ...                        \n",
      "3612272    ['ساعت مچی آنالوگ مردانه سیاه برند diesel DZ45...\n",
      "3612273    ['کاپشن روزمره مردانه سیاه برند columbia 14204...\n",
      "3612274    ['کاپشن روزمره مردانه سرمه\\u200cای برند columb...\n",
      "3612275        ['کیف ورزشی مردانه سیاه برند puma YAGM18931']\n",
      "3612276               ['کیف ورزشی زنانه طوسی آدیداس HM9120']\n",
      "Name: titles, Length: 3612277, dtype: object\n"
     ]
    }
   ],
   "execution_count": 6
  },
  {
   "metadata": {
    "ExecuteTime": {
     "end_time": "2024-10-31T10:35:31.449026Z",
     "start_time": "2024-10-31T10:34:27.985419Z"
    }
   },
   "cell_type": "code",
   "source": [
    "# Function to normalize text: strip spaces, convert to lowercase, and remove non-alphanumeric characters\n",
    "def normalize_text(text):\n",
    "    if isinstance(text, str):\n",
    "        text = text.strip().lower()\n",
    "        text = re.sub(r'\\s+', ' ', text)  # Replace multiple spaces with a single space\n",
    "        text = re.sub(r'\\W+', ' ', text)  # Remove non-alphanumeric characters\n",
    "        return text\n",
    "    return str(text).strip().lower()  # Convert non-string entries to strings\n",
    "# Apply normalization to the 'فارسی' column\n",
    "df['titles'] = df['titles'].apply(normalize_text)\n",
    "\n",
    "# Check the results\n",
    "df['titles'].head()"
   ],
   "id": "e492b905cbf6992a",
   "outputs": [
    {
     "data": {
      "text/plain": [
       "0              میکروسکوپ اپتیکی سلسترون مدل 44121 cgl \n",
       "1     ماشین بازی فورد موستانگ مایستو مدل 2015 ford ...\n",
       "2     کتاب راهنمای کاربردی عیب یابی و تعمیر موتور س...\n",
       "3     لپ تاپ مایکروسافت مدل سرفیس لپتاپ با پردازنده...\n",
       "4     کتاب اقیانوسی در ذهن كلر وندرپول اقیانوسی در ...\n",
       "Name: titles, dtype: object"
      ]
     },
     "execution_count": 7,
     "metadata": {},
     "output_type": "execute_result"
    }
   ],
   "execution_count": 7
  },
  {
   "metadata": {},
   "cell_type": "markdown",
   "source": "this is safe and reliable",
   "id": "22e3489aca07f292"
  },
  {
   "metadata": {},
   "cell_type": "markdown",
   "source": "Remove all English letters (both lowercase and uppercase) and numbers",
   "id": "131b8ac177993cac"
  },
  {
   "metadata": {
    "ExecuteTime": {
     "end_time": "2024-10-31T11:12:46.723466Z",
     "start_time": "2024-10-31T11:12:23.302076Z"
    }
   },
   "cell_type": "code",
   "source": [
    "def non_english(text):\n",
    "    if isinstance(text, str):\n",
    "        text = re.sub(r'[a-zA-Z0-9]', '', text)  # Remove all English letters (both lowercase and uppercase)\n",
    "        text = re.sub(r'\\s+', ' ', text)  # Replace multiple spaces with a single space\n",
    "        return text\n",
    "    return str(text).strip().lower()  # Convert non-string entries to strings\n",
    "df['titles'] = df['titles'].apply(non_english)\n",
    "# Check the results\n",
    "# df['titles','category_name'].head(50)\n",
    "df['titles'].head()"
   ],
   "id": "2e0d5b26828f95b8",
   "outputs": [
    {
     "data": {
      "text/plain": [
       "0                        میکروسکوپ اپتیکی سلسترون مدل \n",
       "1                  ماشین بازی فورد موستانگ مایستو مدل \n",
       "2     کتاب راهنمای کاربردی عیب یابی و تعمیر موتور س...\n",
       "3     لپ تاپ مایکروسافت مدل سرفیس لپتاپ با پردازنده...\n",
       "4     کتاب اقیانوسی در ذهن كلر وندرپول اقیانوسی در ...\n",
       "Name: titles, dtype: object"
      ]
     },
     "execution_count": 9,
     "metadata": {},
     "output_type": "execute_result"
    }
   ],
   "execution_count": 9
  },
  {
   "metadata": {},
   "cell_type": "markdown",
   "source": "but i do not know am i right or not because i erase and removed a lot of text in titles ",
   "id": "6fff261b233696e"
  }
 ],
 "metadata": {
  "kernelspec": {
   "display_name": "Python 3",
   "language": "python",
   "name": "python3"
  },
  "language_info": {
   "codemirror_mode": {
    "name": "ipython",
    "version": 2
   },
   "file_extension": ".py",
   "mimetype": "text/x-python",
   "name": "python",
   "nbconvert_exporter": "python",
   "pygments_lexer": "ipython2",
   "version": "2.7.6"
  }
 },
 "nbformat": 4,
 "nbformat_minor": 5
}
